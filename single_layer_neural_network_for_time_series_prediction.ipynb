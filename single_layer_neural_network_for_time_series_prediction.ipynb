{
  "nbformat": 4,
  "nbformat_minor": 0,
  "metadata": {
    "colab": {
      "name": "single_layer_neural_network_for_time_series_prediction.ipynb",
      "provenance": [],
      "authorship_tag": "ABX9TyOp7GNUAAoO1SDJAcovTQ0k",
      "include_colab_link": true
    },
    "kernelspec": {
      "name": "python3",
      "display_name": "Python 3"
    }
  },
  "cells": [
    {
      "cell_type": "markdown",
      "metadata": {
        "id": "view-in-github",
        "colab_type": "text"
      },
      "source": [
        "<a href=\"https://colab.research.google.com/github/pankaj18/time_series_forecasting/blob/master/single_layer_neural_network_for_time_series_prediction.ipynb\" target=\"_parent\"><img src=\"https://colab.research.google.com/assets/colab-badge.svg\" alt=\"Open In Colab\"/></a>"
      ]
    },
    {
      "cell_type": "code",
      "metadata": {
        "id": "uUSl4rNiQm5m",
        "colab_type": "code",
        "colab": {}
      },
      "source": [
        "import numpy as np\n",
        "import pandas as pd\n",
        "import matplotlib.pyplot as plt\n",
        "%matplotlib inline"
      ],
      "execution_count": 1,
      "outputs": []
    },
    {
      "cell_type": "code",
      "metadata": {
        "id": "ZpprpMIsQ-7A",
        "colab_type": "code",
        "colab": {}
      },
      "source": [
        "import tensorflow as tf\n",
        "from tensorflow import keras "
      ],
      "execution_count": 2,
      "outputs": []
    },
    {
      "cell_type": "code",
      "metadata": {
        "id": "Hardxge_RGb4",
        "colab_type": "code",
        "colab": {}
      },
      "source": [
        "def plot_series(time, series, format=\"-\", start=0, end=None):\n",
        "    plt.plot(time[start:end], series[start:end], format)\n",
        "    plt.xlabel(\"Time\")\n",
        "    plt.ylabel(\"Value\")\n",
        "    plt.grid(True)\n",
        "\n",
        "def trend(time, slope=0):\n",
        "    return slope * time\n",
        "\n",
        "def seasonal_pattern(season_time):\n",
        "    \"\"\"Just an arbitrary pattern, you can change it if you wish\"\"\"\n",
        "    return np.where(season_time < 0.4,\n",
        "                    np.cos(season_time * 2 * np.pi),\n",
        "                    1 / np.exp(3 * season_time))\n",
        "\n",
        "def seasonality(time, period, amplitude=1, phase=0):\n",
        "    \"\"\"Repeats the same pattern at each period\"\"\"\n",
        "    season_time = ((time + phase) % period) / period\n",
        "    return amplitude * seasonal_pattern(season_time)\n",
        "\n",
        "def noise(time, noise_level=1, seed=None):\n",
        "    rnd = np.random.RandomState(seed)\n",
        "    return rnd.randn(len(time)) * noise_level\n",
        "\n",
        "time = np.arange(4 * 365 + 1, dtype=\"float32\")\n",
        "baseline = 10\n",
        "series = trend(time, 0.1)  \n",
        "baseline = 10\n",
        "amplitude = 40\n",
        "slope = 0.05\n",
        "noise_level = 5\n",
        "\n",
        "# Create the series\n",
        "series = baseline + trend(time, slope) + seasonality(time, period=365, amplitude=amplitude)\n",
        "# Update with noise\n",
        "series += noise(time, noise_level, seed=42)\n",
        "\n",
        "split_time = 1000\n",
        "time_train = time[:split_time]\n",
        "x_train = series[:split_time]\n",
        "time_valid = time[split_time:]\n",
        "x_valid = series[split_time:]\n",
        "\n",
        "window_size = 20\n",
        "batch_size = 32\n",
        "shuffle_buffer_size = 1000"
      ],
      "execution_count": 3,
      "outputs": []
    },
    {
      "cell_type": "code",
      "metadata": {
        "id": "QlUwEzp9RJro",
        "colab_type": "code",
        "colab": {}
      },
      "source": [
        "def windowed_dataset(series,window_size,batch_size,shuffle_buffer):\n",
        "  dataset=tf.data.Dataset.from_tensor_slices(series)\n",
        "  dataset=dataset.window(window_size+1, shift=1,drop_remainder=True)\n",
        "  dataset=dataset.flat_map(lambda window:window.batch(window_size+1))\n",
        "  dataset=dataset.shuffle(shuffle_buffer).map(lambda window:(window[:-1],window[-1:]))\n",
        "  dataset=dataset.batch(batch_size).prefetch(1)\n",
        "  return dataset"
      ],
      "execution_count": 9,
      "outputs": []
    },
    {
      "cell_type": "code",
      "metadata": {
        "id": "VsLBO7tZWEGy",
        "colab_type": "code",
        "colab": {
          "base_uri": "https://localhost:8080/",
          "height": 34
        },
        "outputId": "c2020ecd-b8aa-4f41-af3a-31ed283bbfc0"
      },
      "source": [
        "dataset=windowed_dataset(x_train,window_size,batch_size,shuffle_buffer_size)\n",
        "print(dataset)"
      ],
      "execution_count": 10,
      "outputs": [
        {
          "output_type": "stream",
          "text": [
            "<PrefetchDataset shapes: ((None, None), (None, None)), types: (tf.float32, tf.float32)>\n"
          ],
          "name": "stdout"
        }
      ]
    },
    {
      "cell_type": "code",
      "metadata": {
        "id": "apC0X0BNWX2q",
        "colab_type": "code",
        "colab": {}
      },
      "source": [
        "#model\n",
        "l0=tf.keras.layers.Dense(1,input_shape=[window_size])\n",
        "model=tf.keras.models.Sequential([l0])\n"
      ],
      "execution_count": 14,
      "outputs": []
    },
    {
      "cell_type": "code",
      "metadata": {
        "id": "qxJ9EIgNXnsM",
        "colab_type": "code",
        "colab": {
          "base_uri": "https://localhost:8080/",
          "height": 187
        },
        "outputId": "45c7a201-ae4d-47c7-d617-d4cab7ab99be"
      },
      "source": [
        "model.summary()"
      ],
      "execution_count": 15,
      "outputs": [
        {
          "output_type": "stream",
          "text": [
            "Model: \"sequential_1\"\n",
            "_________________________________________________________________\n",
            "Layer (type)                 Output Shape              Param #   \n",
            "=================================================================\n",
            "dense_1 (Dense)              (None, 1)                 21        \n",
            "=================================================================\n",
            "Total params: 21\n",
            "Trainable params: 21\n",
            "Non-trainable params: 0\n",
            "_________________________________________________________________\n"
          ],
          "name": "stdout"
        }
      ]
    },
    {
      "cell_type": "code",
      "metadata": {
        "id": "sOsm47NlXp0r",
        "colab_type": "code",
        "colab": {
          "base_uri": "https://localhost:8080/",
          "height": 1000
        },
        "outputId": "77d0d4ec-19d7-47ad-94f6-a77b3010be41"
      },
      "source": [
        "model.compile(loss='mse',optimizer=tf.keras.optimizers.SGD(lr=1e-6,momentum=0.9))\n",
        "model.fit(dataset,epochs=100,verbose=1)"
      ],
      "execution_count": 16,
      "outputs": [
        {
          "output_type": "stream",
          "text": [
            "Epoch 1/100\n",
            "31/31 [==============================] - 0s 2ms/step - loss: 1190.4584\n",
            "Epoch 2/100\n",
            "31/31 [==============================] - 0s 1ms/step - loss: 210.0450\n",
            "Epoch 3/100\n",
            "31/31 [==============================] - 0s 3ms/step - loss: 123.9916\n",
            "Epoch 4/100\n",
            "31/31 [==============================] - 0s 2ms/step - loss: 99.2143\n",
            "Epoch 5/100\n",
            "31/31 [==============================] - 0s 2ms/step - loss: 86.0729\n",
            "Epoch 6/100\n",
            "31/31 [==============================] - 0s 2ms/step - loss: 78.7558\n",
            "Epoch 7/100\n",
            "31/31 [==============================] - 0s 1ms/step - loss: 74.6225\n",
            "Epoch 8/100\n",
            "31/31 [==============================] - 0s 2ms/step - loss: 71.8829\n",
            "Epoch 9/100\n",
            "31/31 [==============================] - 0s 2ms/step - loss: 69.3879\n",
            "Epoch 10/100\n",
            "31/31 [==============================] - 0s 1ms/step - loss: 68.2945\n",
            "Epoch 11/100\n",
            "31/31 [==============================] - 0s 2ms/step - loss: 66.7681\n",
            "Epoch 12/100\n",
            "31/31 [==============================] - 0s 2ms/step - loss: 66.5888\n",
            "Epoch 13/100\n",
            "31/31 [==============================] - 0s 2ms/step - loss: 65.4146\n",
            "Epoch 14/100\n",
            "31/31 [==============================] - 0s 2ms/step - loss: 64.1791\n",
            "Epoch 15/100\n",
            "31/31 [==============================] - 0s 2ms/step - loss: 63.4896\n",
            "Epoch 16/100\n",
            "31/31 [==============================] - 0s 2ms/step - loss: 62.6835\n",
            "Epoch 17/100\n",
            "31/31 [==============================] - 0s 2ms/step - loss: 61.3574\n",
            "Epoch 18/100\n",
            "31/31 [==============================] - 0s 3ms/step - loss: 61.0094\n",
            "Epoch 19/100\n",
            "31/31 [==============================] - 0s 3ms/step - loss: 60.5281\n",
            "Epoch 20/100\n",
            "31/31 [==============================] - 0s 2ms/step - loss: 60.2341\n",
            "Epoch 21/100\n",
            "31/31 [==============================] - 0s 2ms/step - loss: 59.0515\n",
            "Epoch 22/100\n",
            "31/31 [==============================] - 0s 3ms/step - loss: 58.1824\n",
            "Epoch 23/100\n",
            "31/31 [==============================] - 0s 2ms/step - loss: 57.6764\n",
            "Epoch 24/100\n",
            "31/31 [==============================] - 0s 2ms/step - loss: 57.2379\n",
            "Epoch 25/100\n",
            "31/31 [==============================] - 0s 2ms/step - loss: 56.4153\n",
            "Epoch 26/100\n",
            "31/31 [==============================] - 0s 2ms/step - loss: 56.3387\n",
            "Epoch 27/100\n",
            "31/31 [==============================] - 0s 2ms/step - loss: 55.6103\n",
            "Epoch 28/100\n",
            "31/31 [==============================] - 0s 2ms/step - loss: 55.0678\n",
            "Epoch 29/100\n",
            "31/31 [==============================] - 0s 2ms/step - loss: 54.8645\n",
            "Epoch 30/100\n",
            "31/31 [==============================] - 0s 2ms/step - loss: 54.3487\n",
            "Epoch 31/100\n",
            "31/31 [==============================] - 0s 2ms/step - loss: 54.0917\n",
            "Epoch 32/100\n",
            "31/31 [==============================] - 0s 2ms/step - loss: 54.4473\n",
            "Epoch 33/100\n",
            "31/31 [==============================] - 0s 2ms/step - loss: 53.8557\n",
            "Epoch 34/100\n",
            "31/31 [==============================] - 0s 2ms/step - loss: 52.4492\n",
            "Epoch 35/100\n",
            "31/31 [==============================] - 0s 1ms/step - loss: 53.1028\n",
            "Epoch 36/100\n",
            "31/31 [==============================] - 0s 2ms/step - loss: 52.0211\n",
            "Epoch 37/100\n",
            "31/31 [==============================] - 0s 2ms/step - loss: 51.8187\n",
            "Epoch 38/100\n",
            "31/31 [==============================] - 0s 2ms/step - loss: 51.7733\n",
            "Epoch 39/100\n",
            "31/31 [==============================] - 0s 2ms/step - loss: 51.1765\n",
            "Epoch 40/100\n",
            "31/31 [==============================] - 0s 2ms/step - loss: 50.9028\n",
            "Epoch 41/100\n",
            "31/31 [==============================] - 0s 2ms/step - loss: 50.7369\n",
            "Epoch 42/100\n",
            "31/31 [==============================] - 0s 1ms/step - loss: 50.0380\n",
            "Epoch 43/100\n",
            "31/31 [==============================] - 0s 2ms/step - loss: 50.4879\n",
            "Epoch 44/100\n",
            "31/31 [==============================] - 0s 2ms/step - loss: 50.0532\n",
            "Epoch 45/100\n",
            "31/31 [==============================] - 0s 2ms/step - loss: 49.3430\n",
            "Epoch 46/100\n",
            "31/31 [==============================] - 0s 2ms/step - loss: 49.1705\n",
            "Epoch 47/100\n",
            "31/31 [==============================] - 0s 2ms/step - loss: 48.9870\n",
            "Epoch 48/100\n",
            "31/31 [==============================] - 0s 2ms/step - loss: 50.0497\n",
            "Epoch 49/100\n",
            "31/31 [==============================] - 0s 2ms/step - loss: 48.6645\n",
            "Epoch 50/100\n",
            "31/31 [==============================] - 0s 2ms/step - loss: 48.6530\n",
            "Epoch 51/100\n",
            "31/31 [==============================] - 0s 2ms/step - loss: 48.1263\n",
            "Epoch 52/100\n",
            "31/31 [==============================] - 0s 2ms/step - loss: 47.9846\n",
            "Epoch 53/100\n",
            "31/31 [==============================] - 0s 2ms/step - loss: 47.6350\n",
            "Epoch 54/100\n",
            "31/31 [==============================] - 0s 2ms/step - loss: 47.5603\n",
            "Epoch 55/100\n",
            "31/31 [==============================] - 0s 1ms/step - loss: 47.4806\n",
            "Epoch 56/100\n",
            "31/31 [==============================] - 0s 2ms/step - loss: 47.5038\n",
            "Epoch 57/100\n",
            "31/31 [==============================] - 0s 2ms/step - loss: 48.1020\n",
            "Epoch 58/100\n",
            "31/31 [==============================] - 0s 1ms/step - loss: 46.7656\n",
            "Epoch 59/100\n",
            "31/31 [==============================] - 0s 2ms/step - loss: 46.8292\n",
            "Epoch 60/100\n",
            "31/31 [==============================] - 0s 2ms/step - loss: 46.9867\n",
            "Epoch 61/100\n",
            "31/31 [==============================] - 0s 2ms/step - loss: 46.6264\n",
            "Epoch 62/100\n",
            "31/31 [==============================] - 0s 2ms/step - loss: 46.7112\n",
            "Epoch 63/100\n",
            "31/31 [==============================] - 0s 1ms/step - loss: 46.1586\n",
            "Epoch 64/100\n",
            "31/31 [==============================] - 0s 2ms/step - loss: 45.8783\n",
            "Epoch 65/100\n",
            "31/31 [==============================] - 0s 2ms/step - loss: 46.8260\n",
            "Epoch 66/100\n",
            "31/31 [==============================] - 0s 2ms/step - loss: 46.5933\n",
            "Epoch 67/100\n",
            "31/31 [==============================] - 0s 2ms/step - loss: 45.8773\n",
            "Epoch 68/100\n",
            "31/31 [==============================] - 0s 2ms/step - loss: 45.6804\n",
            "Epoch 69/100\n",
            "31/31 [==============================] - 0s 2ms/step - loss: 45.6503\n",
            "Epoch 70/100\n",
            "31/31 [==============================] - 0s 1ms/step - loss: 45.5956\n",
            "Epoch 71/100\n",
            "31/31 [==============================] - 0s 2ms/step - loss: 46.0171\n",
            "Epoch 72/100\n",
            "31/31 [==============================] - 0s 2ms/step - loss: 45.4063\n",
            "Epoch 73/100\n",
            "31/31 [==============================] - 0s 2ms/step - loss: 45.0955\n",
            "Epoch 74/100\n",
            "31/31 [==============================] - 0s 1ms/step - loss: 45.5633\n",
            "Epoch 75/100\n",
            "31/31 [==============================] - 0s 2ms/step - loss: 45.9053\n",
            "Epoch 76/100\n",
            "31/31 [==============================] - 0s 2ms/step - loss: 44.8876\n",
            "Epoch 77/100\n",
            "31/31 [==============================] - 0s 2ms/step - loss: 44.8913\n",
            "Epoch 78/100\n",
            "31/31 [==============================] - 0s 2ms/step - loss: 45.0635\n",
            "Epoch 79/100\n",
            "31/31 [==============================] - 0s 3ms/step - loss: 45.4026\n",
            "Epoch 80/100\n",
            "31/31 [==============================] - 0s 3ms/step - loss: 44.7589\n",
            "Epoch 81/100\n",
            "31/31 [==============================] - 0s 3ms/step - loss: 44.7795\n",
            "Epoch 82/100\n",
            "31/31 [==============================] - 0s 3ms/step - loss: 44.5773\n",
            "Epoch 83/100\n",
            "31/31 [==============================] - 0s 2ms/step - loss: 44.2820\n",
            "Epoch 84/100\n",
            "31/31 [==============================] - 0s 2ms/step - loss: 44.7083\n",
            "Epoch 85/100\n",
            "31/31 [==============================] - 0s 2ms/step - loss: 44.0540\n",
            "Epoch 86/100\n",
            "31/31 [==============================] - 0s 2ms/step - loss: 44.7364\n",
            "Epoch 87/100\n",
            "31/31 [==============================] - 0s 3ms/step - loss: 44.0497\n",
            "Epoch 88/100\n",
            "31/31 [==============================] - 0s 3ms/step - loss: 44.2034\n",
            "Epoch 89/100\n",
            "31/31 [==============================] - 0s 3ms/step - loss: 44.6315\n",
            "Epoch 90/100\n",
            "31/31 [==============================] - 0s 2ms/step - loss: 44.2816\n",
            "Epoch 91/100\n",
            "31/31 [==============================] - 0s 2ms/step - loss: 43.9030\n",
            "Epoch 92/100\n",
            "31/31 [==============================] - 0s 2ms/step - loss: 44.1035\n",
            "Epoch 93/100\n",
            "31/31 [==============================] - 0s 2ms/step - loss: 43.7922\n",
            "Epoch 94/100\n",
            "31/31 [==============================] - 0s 2ms/step - loss: 43.8859\n",
            "Epoch 95/100\n",
            "31/31 [==============================] - 0s 2ms/step - loss: 43.8685\n",
            "Epoch 96/100\n",
            "31/31 [==============================] - 0s 2ms/step - loss: 43.8231\n",
            "Epoch 97/100\n",
            "31/31 [==============================] - 0s 2ms/step - loss: 44.2700\n",
            "Epoch 98/100\n",
            "31/31 [==============================] - 0s 2ms/step - loss: 43.6906\n",
            "Epoch 99/100\n",
            "31/31 [==============================] - 0s 3ms/step - loss: 44.2559\n",
            "Epoch 100/100\n",
            "31/31 [==============================] - 0s 3ms/step - loss: 44.1037\n"
          ],
          "name": "stdout"
        },
        {
          "output_type": "execute_result",
          "data": {
            "text/plain": [
              "<tensorflow.python.keras.callbacks.History at 0x7f1d806f8860>"
            ]
          },
          "metadata": {
            "tags": []
          },
          "execution_count": 16
        }
      ]
    },
    {
      "cell_type": "code",
      "metadata": {
        "id": "RgOpzOoJYJjS",
        "colab_type": "code",
        "colab": {
          "base_uri": "https://localhost:8080/",
          "height": 357
        },
        "outputId": "00b62e24-a76b-4f77-87f4-f3fc4960b463"
      },
      "source": [
        "print(\"model_weights {}\".format(l0.get_weights()))"
      ],
      "execution_count": 17,
      "outputs": [
        {
          "output_type": "stream",
          "text": [
            "model_weights [array([[-0.01741312],\n",
            "       [-0.0067623 ],\n",
            "       [-0.04971535],\n",
            "       [ 0.0362317 ],\n",
            "       [ 0.04288156],\n",
            "       [ 0.05321401],\n",
            "       [-0.02612626],\n",
            "       [-0.02264966],\n",
            "       [-0.07096928],\n",
            "       [ 0.10776083],\n",
            "       [-0.04354482],\n",
            "       [-0.03369498],\n",
            "       [-0.02284732],\n",
            "       [ 0.09759205],\n",
            "       [ 0.01241094],\n",
            "       [ 0.05970972],\n",
            "       [-0.00558796],\n",
            "       [ 0.10307116],\n",
            "       [ 0.32692322],\n",
            "       [ 0.4600582 ]], dtype=float32), array([0.01476659], dtype=float32)]\n"
          ],
          "name": "stdout"
        }
      ]
    },
    {
      "cell_type": "code",
      "metadata": {
        "id": "bxQse6LrYsNm",
        "colab_type": "code",
        "colab": {}
      },
      "source": [
        "forecast=[]\n",
        "for time in range(len(series)-window_size):\n",
        "  forecast.append(model.predict(series[time:time+window_size][np.newaxis]))\n",
        "\n",
        "forecast=forecast[split_time-window_size:]\n",
        "results=np.array(forecast)[:,0,0]\n"
      ],
      "execution_count": 18,
      "outputs": []
    },
    {
      "cell_type": "code",
      "metadata": {
        "id": "gSmZ9knveUiF",
        "colab_type": "code",
        "colab": {
          "base_uri": "https://localhost:8080/",
          "height": 388
        },
        "outputId": "b4966826-4c60-459d-f137-bfa0a7b909a0"
      },
      "source": [
        "plt.figure(figsize=(10, 6))\n",
        "\n",
        "plot_series(time_valid, x_valid)\n",
        "plot_series(time_valid, results)"
      ],
      "execution_count": 19,
      "outputs": [
        {
          "output_type": "display_data",
          "data": {
            "image/png": "[encoded data removed]",
            "text/plain": [
              "<Figure size 720x432 with 1 Axes>"
            ]
          },
          "metadata": {
            "tags": [],
            "needs_background": "light"
          }
        }
      ]
    },
    {
      "cell_type": "code",
      "metadata": {
        "id": "bhXRhNRJeVcM",
        "colab_type": "code",
        "colab": {
          "base_uri": "https://localhost:8080/",
          "height": 34
        },
        "outputId": "dba8294b-d84f-4a02-f1dd-6d66c22c3ad3"
      },
      "source": [
        "tf.keras.metrics.mean_absolute_error(x_valid, results).numpy()"
      ],
      "execution_count": 20,
      "outputs": [
        {
          "output_type": "execute_result",
          "data": {
            "text/plain": [
              "5.109645"
            ]
          },
          "metadata": {
            "tags": []
          },
          "execution_count": 20
        }
      ]
    },
    {
      "cell_type": "code",
      "metadata": {
        "id": "3UH8Y3nxfBUL",
        "colab_type": "code",
        "colab": {}
      },
      "source": [
        ""
      ],
      "execution_count": null,
      "outputs": []
    }
  ]
}